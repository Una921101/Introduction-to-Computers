{
  "nbformat": 4,
  "nbformat_minor": 0,
  "metadata": {
    "colab": {
      "provenance": [],
      "authorship_tag": "ABX9TyM6Z0FOcVvDp6fZFcpfyW26",
      "include_colab_link": true
    },
    "kernelspec": {
      "name": "python3",
      "display_name": "Python 3"
    },
    "language_info": {
      "name": "python"
    }
  },
  "cells": [
    {
      "cell_type": "markdown",
      "metadata": {
        "id": "view-in-github",
        "colab_type": "text"
      },
      "source": [
        "<a href=\"https://colab.research.google.com/github/Una921101/Introduction-to-Computers/blob/main/%E8%80%83%E9%A1%8C.ipynb\" target=\"_parent\"><img src=\"https://colab.research.google.com/assets/colab-badge.svg\" alt=\"Open In Colab\"/></a>"
      ]
    },
    {
      "cell_type": "code",
      "execution_count": 2,
      "metadata": {
        "colab": {
          "base_uri": "https://localhost:8080/"
        },
        "id": "EhyNzMdZnLuL",
        "outputId": "4933fac7-7b2e-49e7-b918-37b5757883c8"
      },
      "outputs": [
        {
          "output_type": "stream",
          "name": "stdout",
          "text": [
            "0\n",
            "0 is oven\n"
          ]
        }
      ],
      "source": [
        "num=int(input())\n",
        "if num>=0:\n",
        "  if num%2==0:\n",
        "    print(num,\"is oven\")\n",
        "  else:\n",
        "    print(num,\"is odd\")\n",
        "else:\n",
        "  print(\"Input Error\")"
      ]
    },
    {
      "cell_type": "code",
      "source": [
        "total=0\n",
        "for i in range(1,101):\n",
        "  total+=i\n",
        "print(\"1到100的總和為：\",total)"
      ],
      "metadata": {
        "colab": {
          "base_uri": "https://localhost:8080/"
        },
        "id": "UifxIuronkz8",
        "outputId": "87990c94-0424-4041-de8a-d106d259c547"
      },
      "execution_count": 3,
      "outputs": [
        {
          "output_type": "stream",
          "name": "stdout",
          "text": [
            "1到100的總和為： 5050\n"
          ]
        }
      ]
    },
    {
      "cell_type": "code",
      "source": [
        "a=int(input())\n",
        "if a<0:\n",
        "  print(\"input error\")\n",
        "else:\n",
        "  total=100000*(1+0.03)**a\n",
        "  print(total)"
      ],
      "metadata": {
        "colab": {
          "base_uri": "https://localhost:8080/"
        },
        "id": "XcES231-oODE",
        "outputId": "b0b9922b-a9f5-470c-f347-735405062b32"
      },
      "execution_count": 4,
      "outputs": [
        {
          "output_type": "stream",
          "name": "stdout",
          "text": [
            "5\n",
            "115927.40743\n"
          ]
        }
      ]
    },
    {
      "cell_type": "code",
      "source": [
        "data=input()\n",
        "items=data.split()\n",
        "items.reverse()\n",
        "print(\" \".join(items))\n"
      ],
      "metadata": {
        "colab": {
          "base_uri": "https://localhost:8080/"
        },
        "id": "O8R8tJhKohiO",
        "outputId": "4250d724-b197-45af-9901-f1569a0b1d33"
      },
      "execution_count": 7,
      "outputs": [
        {
          "output_type": "stream",
          "name": "stdout",
          "text": [
            "1 2 3 \n",
            "3 2 1\n"
          ]
        }
      ]
    },
    {
      "cell_type": "code",
      "source": [
        "n=int(input())\n",
        "factors=[]\n",
        "for i in range(i,n+1):\n",
        "  if n%i==0:\n",
        "    factors.append(str(i))\n",
        "output=\" \".join(factors)\n",
        "print(output)"
      ],
      "metadata": {
        "colab": {
          "base_uri": "https://localhost:8080/"
        },
        "id": "O5BiJLrbok0r",
        "outputId": "7355f7e7-69b9-43bc-9865-05042a487179"
      },
      "execution_count": 11,
      "outputs": [
        {
          "output_type": "stream",
          "name": "stdout",
          "text": [
            "8\n",
            "\n"
          ]
        }
      ]
    },
    {
      "cell_type": "code",
      "source": [],
      "metadata": {
        "id": "ianx2DHLqWHF"
      },
      "execution_count": null,
      "outputs": []
    }
  ]
}